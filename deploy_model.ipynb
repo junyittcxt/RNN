{
 "cells": [
  {
   "cell_type": "code",
   "execution_count": 54,
   "metadata": {},
   "outputs": [],
   "source": [
    "#method 1: load all df, query signal by date\n",
    "import pandas as pd\n",
    "from rnn_functions import *\n",
    "from rnn_deploy_functions import *\n",
    "from tensorflow.keras.models import load_model\n",
    "from sklearn.externals import joblib\n",
    "import datetime\n",
    "\n",
    "os.environ[\"TF_MIN_GPU_MULTIPROCESSOR_COUNT\"] = \"4\"\n",
    "os.environ[\"CUDA_VISIBLE_DEVICES\"]=\"1\"\n",
    "config = tf.ConfigProto()\n",
    "config.gpu_options.allow_growth = True\n",
    "session = tf.Session(config=config)\n"
   ]
  },
  {
   "cell_type": "code",
   "execution_count": 55,
   "metadata": {},
   "outputs": [],
   "source": [
    "SEQ_LEN = 40\n",
    "model_input = \"RNN_Final-070-0.520.model\"\n",
    "rnn_model = load_model(filepath = model_input, custom_objects=None, compile=False)\n",
    "\n",
    "#Load scaler and columns sequence\n",
    "scaler = joblib.load(\"RUNS/EURUSD-40-2-1-15-0.2-0.0005-128-100-1537947500/rnn_scaler.pkl\")\n",
    "x_columns = joblib.load(\"RUNS/EURUSD-40-2-1-15-0.2-0.0005-128-100-1537947500/x_columns.pkl\")\n",
    "\n",
    "\n"
   ]
  },
  {
   "cell_type": "code",
   "execution_count": 118,
   "metadata": {},
   "outputs": [],
   "source": [
    "df = pd.read_csv(\"./DATA/x_82_ETF_FOREX_MIN_RETONLY.csv\")\n",
    "df[\"Date\"] = pd.to_datetime(df[\"Date\"])\n",
    "df = df.set_index(\"Date\")\n"
   ]
  },
  {
   "cell_type": "code",
   "execution_count": 116,
   "metadata": {},
   "outputs": [],
   "source": [
    "datetime_now = datetime.datetime(2008, 10,7,16,40,0)\n",
    "model_input_x = query_x(df, datetime_now, x_columns, SEQ_LEN)\n",
    "predicted_signal = predict_from_model(model_input_x, rnn_model)"
   ]
  },
  {
   "cell_type": "code",
   "execution_count": 117,
   "metadata": {},
   "outputs": [
    {
     "data": {
      "text/plain": [
       "0"
      ]
     },
     "execution_count": 117,
     "metadata": {},
     "output_type": "execute_result"
    }
   ],
   "source": [
    "predicted_signal"
   ]
  },
  {
   "cell_type": "code",
   "execution_count": null,
   "metadata": {},
   "outputs": [],
   "source": []
  }
 ],
 "metadata": {
  "kernelspec": {
   "display_name": "Python 3",
   "language": "python",
   "name": "python3"
  },
  "language_info": {
   "codemirror_mode": {
    "name": "ipython",
    "version": 3
   },
   "file_extension": ".py",
   "mimetype": "text/x-python",
   "name": "python",
   "nbconvert_exporter": "python",
   "pygments_lexer": "ipython3",
   "version": "3.6.6"
  }
 },
 "nbformat": 4,
 "nbformat_minor": 2
}
