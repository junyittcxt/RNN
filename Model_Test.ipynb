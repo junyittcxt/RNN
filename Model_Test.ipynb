{
 "cells": [
  {
   "cell_type": "code",
   "execution_count": 70,
   "metadata": {},
   "outputs": [],
   "source": [
    "import pandas as pd\n",
    "import numpy as np\n",
    "import datetime\n",
    "from rnn_functions import *\n",
    "from tensorflow.keras.models import load_model\n",
    "from sklearn.externals import joblib\n"
   ]
  },
  {
   "cell_type": "code",
   "execution_count": 71,
   "metadata": {},
   "outputs": [],
   "source": [
    "os.environ[\"TF_MIN_GPU_MULTIPROCESSOR_COUNT\"] = \"4\"\n",
    "os.environ[\"CUDA_VISIBLE_DEVICES\"]=\"1\"\n",
    "\n",
    "# config = tf.ConfigProto()\n",
    "config = tf.ConfigProto()\n",
    "config.gpu_options.allow_growth = True\n",
    "session = tf.Session(config=config)\n"
   ]
  },
  {
   "cell_type": "code",
   "execution_count": 72,
   "metadata": {},
   "outputs": [
    {
     "name": "stdout",
     "output_type": "stream",
     "text": [
      "ok\n"
     ]
    }
   ],
   "source": [
    "df = pd.read_csv(\"./DATA/x_82_ETF_FOREX_5MIN_RETONLY.csv\")\n",
    "df[\"Date\"] = pd.to_datetime(df[\"Date\"])\n",
    "df = df.set_index(\"Date\")\n",
    "\n",
    "print(\"ok\")"
   ]
  },
  {
   "cell_type": "code",
   "execution_count": 73,
   "metadata": {},
   "outputs": [],
   "source": [
    "df2 = df.copy()"
   ]
  },
  {
   "cell_type": "code",
   "execution_count": 74,
   "metadata": {},
   "outputs": [],
   "source": [
    "NAME = \"SPY-60-1-5-5-0.4-0.0002-32-100-1538366283\"\n",
    "folder_dir = f\"./RUNS/{NAME}\"\n",
    "model_input = f\"./models/SPY/{NAME}/RNN_Final-001-0.774.model\"\n",
    "\n",
    "scaler = joblib.load(f\"{folder_dir}/rnn_scaler.pkl\")\n",
    "x_columns = joblib.load(f\"{folder_dir}/x_columns.pkl\")\n",
    "PARAMS_INFO = joblib.load(f\"{folder_dir}/PARAMS_INFO.pkl\")"
   ]
  },
  {
   "cell_type": "code",
   "execution_count": null,
   "metadata": {},
   "outputs": [],
   "source": [
    "rnn_model = load_model(filepath = model_input, custom_objects=None, compile=False)\n",
    "print(\"ok\")"
   ]
  },
  {
   "cell_type": "code",
   "execution_count": null,
   "metadata": {},
   "outputs": [],
   "source": [
    "# dt_start = datetime.datetime(2010,5,10,12,0,0)\n",
    "# y_pred = []\n",
    "# y_actual = []\n",
    "# tt = []\n",
    "\n",
    "# for j in range(3000):\n",
    "#     datetime_now = dt_start + datetime.timedelta(minutes=5*j)\n",
    "   \n",
    "#     sub_df = df[df.index <= datetime_now][x_columns]\n",
    "#     sub_df_y = df[df.index > datetime_now][x_columns]\n",
    "#     x1 = sub_df.tail(60).values\n",
    "#     x1 = scaler.transform(x1)\n",
    "#     model_input_x = x1.reshape((1,x1.shape[0],x1.shape[1]))\n",
    "    \n",
    "#     y = rnn_model.predict(model_input_x)\n",
    "#     y_p = np.argmax(y)\n",
    "#     y_a = sub_df_y.head(1)[\"SPY\"].values[0]\n",
    "#     y_a_tf = 1 if y_a > 0 else 0\n",
    "#     y_pred.append(y_p)\n",
    "#     y_actual.append(y_a_tf)\n",
    "# #     print(datetime_now, y_a_tf, y_p, y_a, y)\n",
    "\n",
    "# print(\"ok\")"
   ]
  },
  {
   "cell_type": "code",
   "execution_count": 80,
   "metadata": {},
   "outputs": [],
   "source": [
    "target_col = \"SPY\"\n",
    "x_columns = [c for c in df.columns if c != target_col]\n",
    "\n",
    "df_x = df[x_columns]\n",
    "y_target =\n",
    "import sklearn\n",
    "fit = True\n",
    "scaler = sklearn.preprocessing.StandardScaler()\n",
    "if scaler is not None:\n",
    "    if fit:\n",
    "        scaler.fit(df[x_columns].values)\n",
    "    df[x_columns] = scaler.transform(df[x_columns].values)"
   ]
  },
  {
   "cell_type": "code",
   "execution_count": 85,
   "metadata": {},
   "outputs": [
    {
     "data": {
      "text/plain": [
       "Index(['AUDUSD', 'EURUSD', 'EURGBP', 'EURJPY', 'EWH', 'EWZ', 'FXI', 'IAU',\n",
       "       'EZU', 'KRE', 'LQD', 'NZDUSD', 'EEM', 'EFA', 'GDX', 'HYG', 'SPY', 'XLU',\n",
       "       'IYR', 'GLD', 'EWT', 'IEF', 'AGG', 'UNG', 'USDJPY', 'GBPUSD', 'USDCAD',\n",
       "       'SLV', 'RSX', 'EWJ', 'OIH', 'SMH', 'XLB', 'TLT', 'USDCHF', 'USO', 'XLF',\n",
       "       'XLK', 'XLP', 'XOP', 'VEA', 'VWO', 'XLE', 'XLI', 'XLV', 'XRT', 'XLY',\n",
       "       'VNQ', 'EWW', 'XBI'],\n",
       "      dtype='object')"
      ]
     },
     "execution_count": 85,
     "metadata": {},
     "output_type": "execute_result"
    }
   ],
   "source": [
    "df.columns"
   ]
  },
  {
   "cell_type": "code",
   "execution_count": 58,
   "metadata": {},
   "outputs": [],
   "source": [
    "df2 = df.copy()"
   ]
  },
  {
   "cell_type": "code",
   "execution_count": 37,
   "metadata": {},
   "outputs": [],
   "source": [
    "sequential_data = []\n",
    "prev_days = deque(maxlen = 60)\n",
    "\n",
    "for i in df[:60].values:\n",
    "    prev_days.append([n for n in i[:-1]])\n",
    "    if len(prev_days) == 60:\n",
    "        sequential_data.append([np.array(prev_days), i[-1]])\n",
    "# random.shuffle(sequential_data)"
   ]
  },
  {
   "cell_type": "code",
   "execution_count": 38,
   "metadata": {},
   "outputs": [],
   "source": [
    "aa = np.array(sequential_data)\n",
    "X=[]\n",
    "y=[]\n",
    "for seq, target in aa:\n",
    "    X.append(seq)\n",
    "    y.append(target)\n"
   ]
  },
  {
   "cell_type": "code",
   "execution_count": 39,
   "metadata": {},
   "outputs": [
    {
     "data": {
      "text/plain": [
       "(60, 49)"
      ]
     },
     "execution_count": 39,
     "metadata": {},
     "output_type": "execute_result"
    }
   ],
   "source": [
    "np.array(X)[0].shape\n",
    "\n"
   ]
  },
  {
   "cell_type": "code",
   "execution_count": 40,
   "metadata": {},
   "outputs": [
    {
     "data": {
      "text/plain": [
       "(770119, 50)"
      ]
     },
     "execution_count": 40,
     "metadata": {},
     "output_type": "execute_result"
    }
   ],
   "source": [
    "df.shape"
   ]
  },
  {
   "cell_type": "code",
   "execution_count": 33,
   "metadata": {},
   "outputs": [
    {
     "data": {
      "text/plain": [
       "(60, 50)"
      ]
     },
     "execution_count": 33,
     "metadata": {},
     "output_type": "execute_result"
    }
   ],
   "source": [
    "df[:60].values.shape"
   ]
  },
  {
   "cell_type": "code",
   "execution_count": 7,
   "metadata": {},
   "outputs": [],
   "source": [
    "from sklearn.metrics import confusion_matrix\n",
    "\n"
   ]
  },
  {
   "cell_type": "code",
   "execution_count": 8,
   "metadata": {},
   "outputs": [],
   "source": [
    "cm = confusion_matrix(y_actual, y_pred)"
   ]
  },
  {
   "cell_type": "code",
   "execution_count": 9,
   "metadata": {},
   "outputs": [
    {
     "data": {
      "text/plain": [
       "array([[1599, 1081],\n",
       "       [  56,  264]])"
      ]
     },
     "execution_count": 9,
     "metadata": {},
     "output_type": "execute_result"
    }
   ],
   "source": [
    "cm"
   ]
  },
  {
   "cell_type": "code",
   "execution_count": 10,
   "metadata": {},
   "outputs": [
    {
     "data": {
      "text/plain": [
       "0.621"
      ]
     },
     "execution_count": 10,
     "metadata": {},
     "output_type": "execute_result"
    }
   ],
   "source": [
    "(cm[0,0]+cm[1,1])/np.sum(cm)"
   ]
  },
  {
   "cell_type": "code",
   "execution_count": 11,
   "metadata": {},
   "outputs": [
    {
     "data": {
      "text/plain": [
       "0.24421831637372804"
      ]
     },
     "execution_count": 11,
     "metadata": {},
     "output_type": "execute_result"
    }
   ],
   "source": [
    "264/1081"
   ]
  },
  {
   "cell_type": "code",
   "execution_count": null,
   "metadata": {},
   "outputs": [],
   "source": []
  }
 ],
 "metadata": {
  "kernelspec": {
   "display_name": "Python 3",
   "language": "python",
   "name": "python3"
  },
  "language_info": {
   "codemirror_mode": {
    "name": "ipython",
    "version": 3
   },
   "file_extension": ".py",
   "mimetype": "text/x-python",
   "name": "python",
   "nbconvert_exporter": "python",
   "pygments_lexer": "ipython3",
   "version": "3.6.6"
  }
 },
 "nbformat": 4,
 "nbformat_minor": 2
}
