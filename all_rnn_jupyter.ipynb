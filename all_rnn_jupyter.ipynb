{
 "cells": [
  {
   "cell_type": "code",
   "execution_count": 1,
   "metadata": {},
   "outputs": [
    {
     "name": "stderr",
     "output_type": "stream",
     "text": [
      "C:\\Users\\Workstation\\Anaconda3\\lib\\site-packages\\h5py\\__init__.py:34: FutureWarning: Conversion of the second argument of issubdtype from `float` to `np.floating` is deprecated. In future, it will be treated as `np.float64 == np.dtype(float).type`.\n",
      "  from ._conv import register_converters as _register_converters\n"
     ]
    }
   ],
   "source": [
    "import pandas as pd\n",
    "import numpy as np\n",
    "from sklearn import preprocessing\n",
    "import tensorflow as tf\n",
    "import os, time, sys, sklearn\n",
    "from sklearn.externals import joblib\n",
    "from rnn_functions import *"
   ]
  },
  {
   "cell_type": "code",
   "execution_count": 2,
   "metadata": {},
   "outputs": [],
   "source": [
    "os.environ[\"TF_MIN_GPU_MULTIPROCESSOR_COUNT\"] = \"4\"\n",
    "os.environ[\"CUDA_VISIBLE_DEVICES\"]=\"1\"\n",
    "config = tf.ConfigProto()\n",
    "# config = tf.ConfigProto(allow_soft_placement=True,\n",
    "#                         log_device_placement=True)\n",
    "config.gpu_options.allow_growth = True\n",
    "session = tf.Session(config=config)"
   ]
  },
  {
   "cell_type": "code",
   "execution_count": null,
   "metadata": {
    "collapsed": true
   },
   "outputs": [],
   "source": [
    "#Parameters\n",
    "NROWS = 20000\n",
    "TARGET_TO_PREDICT = \"EURUSD\"\n",
    "\n",
    "SEQ_LEN = 60\n",
    "FUTURE_PERIOD_PREDICT = 2\n",
    "\n",
    "NUMLAYER = 5\n",
    "NEURONS = 5\n",
    "DROPOUT = 0.4\n",
    "LEARNING_RATE = 0.0002\n",
    "BATCH_SIZE = 256\n",
    "# BATCH_SIZE = 1028\n",
    "EPOCHS = 200\n",
    "PATIENCE = 30\n",
    "NAME = f\"{TARGET_TO_PREDICT}-{SEQ_LEN}-{FUTURE_PERIOD_PREDICT}-{NUMLAYER}-{NEURONS}-{DROPOUT}-{LEARNING_RATE}-{BATCH_SIZE}-{EPOCHS}-{int(time.time())}\"\n",
    "\n",
    "PARAMS_INFO = dict(NROWS = NROWS, TARGET_TO_PREDICT = TARGET_TO_PREDICT, SEQ_LEN = SEQ_LEN, FUTURE_PERIOD_PREDICT = FUTURE_PERIOD_PREDICT,\n",
    "                NUMLAYER = NUMLAYER, NEURONS = NEURONS, DROPOUT = DROPOUT, LEARNING_RATE = LEARNING_RATE, BATCH_SIZE = BATCH_SIZE,\n",
    "                EPOCHS = EPOCHS, NAME = NAME\n",
    "                )\n",
    "\n"
   ]
  },
  {
   "cell_type": "code",
   "execution_count": null,
   "metadata": {},
   "outputs": [],
   "source": [
    "#Load\n",
    "# df = pd.read_csv(\"./DATA/x_82_ETF_FOREX_MIN_RETONLY.csv\")\n",
    "df = pd.read_csv(\"./DATA/x_82_ETF_FOREX_5MIN_RETONLY.csv\", nrows = NROWS)\n",
    "df[\"Date\"] = pd.to_datetime(df[\"Date\"])\n",
    "df = df.set_index(\"Date\")"
   ]
  },
  {
   "cell_type": "code",
   "execution_count": null,
   "metadata": {
    "collapsed": true
   },
   "outputs": [],
   "source": [
    "#Pre-process (target)\n",
    "df = create_target(df, TARGET_TO_PREDICT, FUTURE_PERIOD_PREDICT, cumulative_returns)\n",
    "df = classify_target(df, \"target\", 0, False)"
   ]
  },
  {
   "cell_type": "code",
   "execution_count": null,
   "metadata": {},
   "outputs": [
    {
     "name": "stdout",
     "output_type": "stream",
     "text": [
      "4\n",
      "[(9999, 51), (3999, 51), (3000, 51), (3000, 51)]\n"
     ]
    }
   ],
   "source": [
    "#Split\n",
    "prop = [0.5, 0.7, 0.85]\n",
    "df_list_2 = split_df_by_prop(df, prop = prop)\n",
    "print(len(df_list_2))\n",
    "print([j.shape for j in df_list_2])"
   ]
  },
  {
   "cell_type": "code",
   "execution_count": null,
   "metadata": {},
   "outputs": [
    {
     "data": {
      "text/plain": [
       "['RUNS/EURUSD-60-2-5-5-0.4-0.0002-256-200-1538968383/PARAMS_INFO.pkl']"
      ]
     },
     "execution_count": 7,
     "metadata": {},
     "output_type": "execute_result"
    }
   ],
   "source": [
    "#Scaling\n",
    "scaler = sklearn.preprocessing.StandardScaler()\n",
    "train_x, train_y, scaler, x_columns = preprocess_returns_df(df=df_list_2[0], target_col = \"target\", scaler = scaler, SEQ_LEN = SEQ_LEN, fit = True, same_prop = True, shuffle = True)\n",
    "val_x, val_y, _, _ = preprocess_returns_df(df=df_list_2[1], target_col = \"target\", scaler = scaler, SEQ_LEN = SEQ_LEN, fit = False, same_prop = True, shuffle = False)\n",
    "test_x, test_y, _, _ = preprocess_returns_df(df=df_list_2[2], target_col = \"target\", scaler = scaler, SEQ_LEN = SEQ_LEN, fit = False, same_prop = True, shuffle = False)\n",
    "run_dir = f'RUNS/{NAME}'\n",
    "init_dir(run_dir)\n",
    "joblib.dump(scaler, f'{run_dir}/rnn_scaler.pkl')\n",
    "joblib.dump(x_columns, f'{run_dir}/x_columns.pkl')\n",
    "joblib.dump(PARAMS_INFO, f'{run_dir}/PARAMS_INFO.pkl')\n"
   ]
  },
  {
   "cell_type": "code",
   "execution_count": null,
   "metadata": {},
   "outputs": [],
   "source": [
    "# train_y.reshape()"
   ]
  },
  {
   "cell_type": "code",
   "execution_count": null,
   "metadata": {},
   "outputs": [
    {
     "ename": "NameError",
     "evalue": "name 'keras' is not defined",
     "output_type": "error",
     "traceback": [
      "\u001b[1;31m---------------------------------------------------------------------------\u001b[0m",
      "\u001b[1;31mNameError\u001b[0m                                 Traceback (most recent call last)",
      "\u001b[1;32m<ipython-input-9-595925336ff5>\u001b[0m in \u001b[0;36m<module>\u001b[1;34m()\u001b[0m\n\u001b[0;32m      2\u001b[0m \u001b[1;31m#Training\u001b[0m\u001b[1;33m\u001b[0m\u001b[1;33m\u001b[0m\u001b[0m\n\u001b[0;32m      3\u001b[0m \u001b[0mdata\u001b[0m \u001b[1;33m=\u001b[0m \u001b[1;33m(\u001b[0m\u001b[0mtrain_x\u001b[0m\u001b[1;33m,\u001b[0m \u001b[0mtrain_y\u001b[0m\u001b[1;33m,\u001b[0m \u001b[0mval_x\u001b[0m\u001b[1;33m,\u001b[0m \u001b[0mval_y\u001b[0m\u001b[1;33m)\u001b[0m\u001b[1;33m\u001b[0m\u001b[0m\n\u001b[1;32m----> 4\u001b[1;33m \u001b[0mmodel\u001b[0m\u001b[1;33m,\u001b[0m \u001b[0mhistory\u001b[0m \u001b[1;33m=\u001b[0m \u001b[0mcudnn_lstm\u001b[0m\u001b[1;33m(\u001b[0m\u001b[0mdata\u001b[0m\u001b[1;33m,\u001b[0m \u001b[0mNUMLAYER\u001b[0m\u001b[1;33m,\u001b[0m \u001b[0mNEURONS\u001b[0m\u001b[1;33m,\u001b[0m \u001b[0mDROPOUT\u001b[0m\u001b[1;33m,\u001b[0m \u001b[0mLEARNING_RATE\u001b[0m\u001b[1;33m,\u001b[0m \u001b[0mBATCH_SIZE\u001b[0m\u001b[1;33m,\u001b[0m \u001b[0mEPOCHS\u001b[0m\u001b[1;33m,\u001b[0m \u001b[0mNAME\u001b[0m\u001b[1;33m,\u001b[0m \u001b[0mPATIENCE\u001b[0m\u001b[1;33m,\u001b[0m \u001b[0mlogs_folder\u001b[0m \u001b[1;33m=\u001b[0m \u001b[0mTARGET_TO_PREDICT\u001b[0m\u001b[1;33m,\u001b[0m \u001b[0mmodels_folder\u001b[0m\u001b[1;33m=\u001b[0m\u001b[0mTARGET_TO_PREDICT\u001b[0m\u001b[1;33m,\u001b[0m \u001b[0mdevice_name\u001b[0m \u001b[1;33m=\u001b[0m \u001b[1;34m\"/gpu:1\"\u001b[0m\u001b[1;33m)\u001b[0m\u001b[1;33m\u001b[0m\u001b[0m\n\u001b[0m\u001b[0;32m      5\u001b[0m \u001b[1;33m\u001b[0m\u001b[0m\n\u001b[0;32m      6\u001b[0m \u001b[1;33m\u001b[0m\u001b[0m\n",
      "\u001b[1;32m~\\Desktop\\RNN\\rnn_functions.py\u001b[0m in \u001b[0;36mcudnn_lstm\u001b[1;34m(data, NUMLAYER, NEURONS, DROPOUT, LEARNING_RATE, BATCH_SIZE, EPOCHS, NAME, PATIENCE, logs_folder, models_folder, device_name)\u001b[0m\n\u001b[0;32m    285\u001b[0m                                                            \u001b[0msave_weights_only\u001b[0m\u001b[1;33m=\u001b[0m\u001b[1;32mFalse\u001b[0m\u001b[1;33m,\u001b[0m\u001b[1;33m\u001b[0m\u001b[0m\n\u001b[0;32m    286\u001b[0m                                                            mode='max')\n\u001b[1;32m--> 287\u001b[1;33m         \u001b[0mearlystopping\u001b[0m \u001b[1;33m=\u001b[0m \u001b[0mkeras\u001b[0m\u001b[1;33m.\u001b[0m\u001b[0mcallbacks\u001b[0m\u001b[1;33m.\u001b[0m\u001b[0mEarlyStopping\u001b[0m\u001b[1;33m(\u001b[0m\u001b[0mmonitor\u001b[0m\u001b[1;33m=\u001b[0m\u001b[1;34m'val_loss'\u001b[0m\u001b[1;33m,\u001b[0m \u001b[0mmin_delta\u001b[0m\u001b[1;33m=\u001b[0m\u001b[1;36m0\u001b[0m\u001b[1;33m,\u001b[0m \u001b[0mpatience\u001b[0m\u001b[1;33m=\u001b[0m\u001b[0mPATIENCE\u001b[0m\u001b[1;33m,\u001b[0m \u001b[0mverbose\u001b[0m\u001b[1;33m=\u001b[0m\u001b[1;36m0\u001b[0m\u001b[1;33m,\u001b[0m \u001b[0mmode\u001b[0m\u001b[1;33m=\u001b[0m\u001b[1;34m'auto'\u001b[0m\u001b[1;33m,\u001b[0m \u001b[0mbaseline\u001b[0m\u001b[1;33m=\u001b[0m\u001b[1;32mNone\u001b[0m\u001b[1;33m,\u001b[0m \u001b[0mrestore_best_weights\u001b[0m\u001b[1;33m=\u001b[0m\u001b[1;32mFalse\u001b[0m\u001b[1;33m)\u001b[0m\u001b[1;33m\u001b[0m\u001b[0m\n\u001b[0m\u001b[0;32m    288\u001b[0m         history = model.fit(train_x, train_y,\n\u001b[0;32m    289\u001b[0m                             \u001b[0mbatch_size\u001b[0m\u001b[1;33m=\u001b[0m\u001b[0mBATCH_SIZE\u001b[0m\u001b[1;33m,\u001b[0m\u001b[1;33m\u001b[0m\u001b[0m\n",
      "\u001b[1;31mNameError\u001b[0m: name 'keras' is not defined"
     ]
    }
   ],
   "source": [
    "\n",
    "#Training\n",
    "data = (train_x, train_y, val_x, val_y)\n",
    "model, history = cudnn_lstm(data, NUMLAYER, NEURONS, DROPOUT, LEARNING_RATE, BATCH_SIZE, EPOCHS, NAME, PATIENCE, logs_folder = TARGET_TO_PREDICT, models_folder=TARGET_TO_PREDICT, device_name = \"/gpu:1\")\n",
    "\n",
    "\n",
    "# performance_binary(train_x, train_y, model, sample_type = \"train\")\n",
    "# performance_binary(val_x, val_y, model, sample_type = \"val\")\n",
    "# performance_binary(test_x, test_y, model, sample_type = \"test\")\n"
   ]
  },
  {
   "cell_type": "code",
   "execution_count": null,
   "metadata": {
    "collapsed": true
   },
   "outputs": [],
   "source": [
    "\n",
    "# print(\"========================\")\n",
    "# performance_binary(train_x, train_y, model, sample_type = \"test\", threshold = 0.5, silence = False)\n",
    "# performance_binary(val_x, val_y, model, sample_type = \"test\", threshold = 0.5, silence = False)\n",
    "# performance_binary(test_x, test_y, model, sample_type = \"test\", threshold = 0.5, silence = False)\n"
   ]
  },
  {
   "cell_type": "code",
   "execution_count": null,
   "metadata": {
    "collapsed": true
   },
   "outputs": [],
   "source": []
  }
 ],
 "metadata": {
  "kernelspec": {
   "display_name": "Python 3",
   "language": "python",
   "name": "python3"
  },
  "language_info": {
   "codemirror_mode": {
    "name": "ipython",
    "version": 3
   },
   "file_extension": ".py",
   "mimetype": "text/x-python",
   "name": "python",
   "nbconvert_exporter": "python",
   "pygments_lexer": "ipython3",
   "version": "3.6.4"
  }
 },
 "nbformat": 4,
 "nbformat_minor": 2
}
